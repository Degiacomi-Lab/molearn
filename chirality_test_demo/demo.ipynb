{
 "cells": [
  {
   "cell_type": "code",
   "execution_count": 1,
   "metadata": {},
   "outputs": [],
   "source": [
    "import numpy as np\n",
    "import MDAnalysis as mda\n",
    "\n",
    "from utils import get_ca_chirality"
   ]
  },
  {
   "cell_type": "code",
   "execution_count": 2,
   "metadata": {},
   "outputs": [],
   "source": [
    "# This peptide has alternating L- and D-amino acids\n",
    "uni = mda.Universe(\"1C4D.pdb\")"
   ]
  },
  {
   "cell_type": "code",
   "execution_count": 3,
   "metadata": {},
   "outputs": [],
   "source": [
    "ag = uni.select_atoms(\"name CB\")                # Select all CB atoms\n",
    "res_idxs = np.unique(ag.residues.resids)        # Find indices of reidues with CB atoms\n",
    "resid_str = \" \".join(str(i) for i in res_idxs)  # Create a string of residue indices\n",
    "residues_with_cb = uni.select_atoms(f\"resid {resid_str}\") # Select atom groups of residues with chiral Ca"
   ]
  },
  {
   "cell_type": "code",
   "execution_count": 4,
   "metadata": {},
   "outputs": [],
   "source": [
    "# Get coordinates of atoms\n",
    "n = residues_with_cb.select_atoms(\"name N\").positions\n",
    "ca = residues_with_cb.select_atoms(\"name C\").positions\n",
    "c = residues_with_cb.select_atoms(\"name CA\").positions\n",
    "cb = residues_with_cb.select_atoms(\"name CB\").positions"
   ]
  },
  {
   "cell_type": "code",
   "execution_count": 5,
   "metadata": {},
   "outputs": [
    {
     "name": "stdout",
     "output_type": "stream",
     "text": [
      "Residue DLE 4 is D-amino acid\n",
      "Residue DVA 6 is D-amino acid\n",
      "Residue DVA 8 is D-amino acid\n",
      "Residue DLE 10 is D-amino acid\n",
      "Residue DLE 12 is D-amino acid\n",
      "Residue DLE 14 is D-amino acid\n"
     ]
    }
   ],
   "source": [
    "angles = get_ca_chirality(n, ca, c, cb)\n",
    "for res_id, angle in zip(res_idxs, angles):\n",
    "    if angle > 0:\n",
    "        print(f\"Residue {uni.residues[res_id-1].resname} {res_id} is D-amino acid\")"
   ]
  },
  {
   "cell_type": "code",
   "execution_count": null,
   "metadata": {},
   "outputs": [],
   "source": []
  }
 ],
 "metadata": {
  "kernelspec": {
   "display_name": "molearn",
   "language": "python",
   "name": "python3"
  },
  "language_info": {
   "codemirror_mode": {
    "name": "ipython",
    "version": 3
   },
   "file_extension": ".py",
   "mimetype": "text/x-python",
   "name": "python",
   "nbconvert_exporter": "python",
   "pygments_lexer": "ipython3",
   "version": "3.8.16"
  }
 },
 "nbformat": 4,
 "nbformat_minor": 2
}
